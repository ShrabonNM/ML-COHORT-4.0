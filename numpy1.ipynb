{
 "cells": [
  {
   "cell_type": "markdown",
   "id": "ff20b7d5",
   "metadata": {},
   "source": [
    "numpy array\n"
   ]
  },
  {
   "cell_type": "code",
   "execution_count": 14,
   "id": "c1966a05",
   "metadata": {},
   "outputs": [
    {
     "name": "stdout",
     "output_type": "stream",
     "text": [
      "[1, 2, 43, 67, 13, 44, 99]\n"
     ]
    }
   ],
   "source": [
    "import numpy as np\n",
    "first = [1,2,43,67,13,44,99]\n",
    "print(first) #!D array\n",
    "\n"
   ]
  },
  {
   "cell_type": "code",
   "execution_count": 15,
   "id": "d2203c1c",
   "metadata": {},
   "outputs": [
    {
     "name": "stdout",
     "output_type": "stream",
     "text": [
      "1D array \n",
      "[1 2 3 4 5]\n"
     ]
    }
   ],
   "source": [
    "print(\"1D array \")\n",
    "a=np.array([1,2,3,4,5])\n",
    "print(a)"
   ]
  },
  {
   "cell_type": "code",
   "execution_count": 16,
   "id": "f9118fc9",
   "metadata": {},
   "outputs": [
    {
     "name": "stdout",
     "output_type": "stream",
     "text": [
      "2D array\n",
      "[[1 2 4 5]\n",
      " [2 4 8 6]]\n"
     ]
    }
   ],
   "source": [
    "print(\"2D array\")\n",
    "b=np.array([[1,2,4,5],\n",
    "            [2,4,8,6]])\n",
    "print(b)"
   ]
  },
  {
   "cell_type": "code",
   "execution_count": 17,
   "id": "2eec5d0f",
   "metadata": {},
   "outputs": [
    {
     "name": "stdout",
     "output_type": "stream",
     "text": [
      "3D array\n",
      "[[[ 2  1  4  6  7]\n",
      "  [ 4  1  8  9  6]\n",
      "  [11  2  4  3  1]]]\n"
     ]
    }
   ],
   "source": [
    "print(\"3D array\")\n",
    "c=np.array([[[2,1,4,6,7],\n",
    "             [4,1,8,9,6],\n",
    "             [11,2,4,3,1]]])\n",
    "print(c)"
   ]
  },
  {
   "cell_type": "code",
   "execution_count": 18,
   "id": "d7c1e0de",
   "metadata": {},
   "outputs": [
    {
     "name": "stdout",
     "output_type": "stream",
     "text": [
      "5\n",
      "8\n",
      "15\n"
     ]
    }
   ],
   "source": [
    "print(a.size)\n",
    "print(b.size)\n",
    "print(c.size)"
   ]
  },
  {
   "cell_type": "code",
   "execution_count": 19,
   "id": "7d7e910d",
   "metadata": {},
   "outputs": [
    {
     "name": "stdout",
     "output_type": "stream",
     "text": [
      "(5,)\n",
      "(2, 4)\n",
      "(1, 3, 5)\n"
     ]
    }
   ],
   "source": [
    "print(a.shape)\n",
    "print(b.shape)\n",
    "print(c.shape)"
   ]
  },
  {
   "cell_type": "code",
   "execution_count": 20,
   "id": "c4281f47",
   "metadata": {},
   "outputs": [
    {
     "name": "stdout",
     "output_type": "stream",
     "text": [
      "float64\n"
     ]
    }
   ],
   "source": [
    "d=np.array([[[2,1.4,4.3,6,7],\n",
    "             [4,1,8,9.8,6],\n",
    "             [11,2.5,4,3,1.6]]])\n",
    "print(d.dtype)"
   ]
  },
  {
   "cell_type": "code",
   "execution_count": 21,
   "id": "4392cdaf",
   "metadata": {},
   "outputs": [
    {
     "name": "stdout",
     "output_type": "stream",
     "text": [
      "int64\n"
     ]
    }
   ],
   "source": [
    "e=np.array([[[2,1,4,6,7],\n",
    "             [4,1,8,9,6],\n",
    "             [11,2,4,3,1]]])\n",
    "print(e.dtype)"
   ]
  },
  {
   "cell_type": "markdown",
   "id": "7814c55c",
   "metadata": {},
   "source": [
    "Task "
   ]
  },
  {
   "cell_type": "code",
   "execution_count": null,
   "id": "e84a9949",
   "metadata": {},
   "outputs": [
    {
     "name": "stdout",
     "output_type": "stream",
     "text": [
      "[ 3  7 11 15]\n"
     ]
    }
   ],
   "source": [
    "t1=[2,4,6,8]\n",
    "t2=[1,3,5,7]\n",
    "print(np.add(t1, t2)) # we calculated summation of two matrix "
   ]
  },
  {
   "cell_type": "code",
   "execution_count": 24,
   "id": "e4590597",
   "metadata": {},
   "outputs": [
    {
     "name": "stdout",
     "output_type": "stream",
     "text": [
      "[[1 3]\n",
      " [2 4]\n",
      " [4 1]\n",
      " [7 8]\n",
      " [3 5]]\n"
     ]
    }
   ],
   "source": [
    "trans=[[1,2,4,7,3],\n",
    "       [3,4,1,8,5]]\n",
    "print(np.transpose(trans))"
   ]
  }
 ],
 "metadata": {
  "kernelspec": {
   "display_name": "Python 3",
   "language": "python",
   "name": "python3"
  },
  "language_info": {
   "codemirror_mode": {
    "name": "ipython",
    "version": 3
   },
   "file_extension": ".py",
   "mimetype": "text/x-python",
   "name": "python",
   "nbconvert_exporter": "python",
   "pygments_lexer": "ipython3",
   "version": "3.13.3"
  }
 },
 "nbformat": 4,
 "nbformat_minor": 5
}

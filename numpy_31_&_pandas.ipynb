{
 "cells": [
  {
   "cell_type": "code",
   "execution_count": 1,
   "id": "bcd75296",
   "metadata": {},
   "outputs": [],
   "source": [
    "import numpy as np\n"
   ]
  },
  {
   "cell_type": "code",
   "execution_count": null,
   "id": "67778d4b",
   "metadata": {},
   "outputs": [
    {
     "name": "stdout",
     "output_type": "stream",
     "text": [
      "[1. 1. 1. 1. 1. 1.]\n"
     ]
    }
   ],
   "source": [
    "x= np.ones(6)\n",
    "print(x) #printed as a float"
   ]
  },
  {
   "cell_type": "code",
   "execution_count": null,
   "id": "7ed92d32",
   "metadata": {},
   "outputs": [
    {
     "name": "stdout",
     "output_type": "stream",
     "text": [
      "[1 1 1 1 1 1]\n"
     ]
    }
   ],
   "source": [
    "x = np.ones((6),dtype=int)\n",
    "print(x) #printed as a integer"
   ]
  },
  {
   "cell_type": "code",
   "execution_count": null,
   "id": "2d0ff0af",
   "metadata": {},
   "outputs": [
    {
     "data": {
      "text/plain": [
       "array([[0, 0, 0, 0, 0, 0, 0, 0],\n",
       "       [0, 0, 0, 0, 0, 0, 0, 0],\n",
       "       [0, 0, 0, 0, 0, 0, 0, 0],\n",
       "       [0, 0, 0, 0, 0, 0, 0, 0]])"
      ]
     },
     "execution_count": 10,
     "metadata": {},
     "output_type": "execute_result"
    }
   ],
   "source": [
    "z= np.zeros((4,8),dtype = int)\n",
    "z            #first number ,4 is row and second number,8 is colum\n",
    "             #we can also write only the varible to print the array instead of writing print()"
   ]
  },
  {
   "cell_type": "code",
   "execution_count": null,
   "id": "3f8d4461",
   "metadata": {},
   "outputs": [
    {
     "data": {
      "text/plain": [
       "array([ 1,  2,  3,  4,  5,  6,  7,  8,  9, 10, 11, 12, 13, 14, 15, 16, 17,\n",
       "       18, 19, 20])"
      ]
     },
     "execution_count": 11,
     "metadata": {},
     "output_type": "execute_result"
    }
   ],
   "source": [
    "a=np.arange(1,21)\n",
    "a #print(a)"
   ]
  },
  {
   "cell_type": "code",
   "execution_count": null,
   "id": "aa893724",
   "metadata": {},
   "outputs": [
    {
     "data": {
      "text/plain": [
       "array([ 1,  3,  5,  7,  9, 11, 13, 15, 17, 19])"
      ]
     },
     "execution_count": 12,
     "metadata": {},
     "output_type": "execute_result"
    }
   ],
   "source": [
    "b=np.arange(1,21,2)\n",
    "b #printing only odd numbers"
   ]
  },
  {
   "cell_type": "code",
   "execution_count": 18,
   "id": "6e0234cf",
   "metadata": {},
   "outputs": [
    {
     "data": {
      "text/plain": [
       "array([[ 2,  4,  6,  8, 10],\n",
       "       [12, 14, 16, 18, 20]])"
      ]
     },
     "execution_count": 18,
     "metadata": {},
     "output_type": "execute_result"
    }
   ],
   "source": [
    "c = np.arange(2, 21, 2)\n",
    "c = c.reshape((2, 5))\n",
    "c\n"
   ]
  },
  {
   "cell_type": "markdown",
   "id": "5d705542",
   "metadata": {},
   "source": [
    "TASK"
   ]
  },
  {
   "cell_type": "code",
   "execution_count": 20,
   "id": "dbcf521f",
   "metadata": {},
   "outputs": [
    {
     "name": "stdout",
     "output_type": "stream",
     "text": [
      "[[20 22 24]\n",
      " [26 28 30]\n",
      " [32 34 36]\n",
      " [38 40 42]\n",
      " [44 46 48]\n",
      " [50 52 54]]\n"
     ]
    }
   ],
   "source": [
    "t1=np.arange(0,18)\n",
    "t1_1=t1.reshape((6,3))\n",
    "t2=np.arange(20,38)\n",
    "t2_2=t2.reshape((6,3))\n",
    "print(np.add(t1_1,t2_2))\n"
   ]
  },
  {
   "cell_type": "code",
   "execution_count": 1,
   "id": "65754f9d",
   "metadata": {},
   "outputs": [],
   "source": [
    "import pandas as pd\n"
   ]
  },
  {
   "cell_type": "code",
   "execution_count": 2,
   "id": "6403141f",
   "metadata": {},
   "outputs": [
    {
     "data": {
      "text/html": [
       "<div>\n",
       "<style scoped>\n",
       "    .dataframe tbody tr th:only-of-type {\n",
       "        vertical-align: middle;\n",
       "    }\n",
       "\n",
       "    .dataframe tbody tr th {\n",
       "        vertical-align: top;\n",
       "    }\n",
       "\n",
       "    .dataframe thead th {\n",
       "        text-align: right;\n",
       "    }\n",
       "</style>\n",
       "<table border=\"1\" class=\"dataframe\">\n",
       "  <thead>\n",
       "    <tr style=\"text-align: right;\">\n",
       "      <th></th>\n",
       "      <th>Yes</th>\n",
       "      <th>No</th>\n",
       "    </tr>\n",
       "  </thead>\n",
       "  <tbody>\n",
       "    <tr>\n",
       "      <th>0</th>\n",
       "      <td>50</td>\n",
       "      <td>121</td>\n",
       "    </tr>\n",
       "    <tr>\n",
       "      <th>1</th>\n",
       "      <td>21</td>\n",
       "      <td>2</td>\n",
       "    </tr>\n",
       "    <tr>\n",
       "      <th>2</th>\n",
       "      <td>78</td>\n",
       "      <td>45</td>\n",
       "    </tr>\n",
       "  </tbody>\n",
       "</table>\n",
       "</div>"
      ],
      "text/plain": [
       "   Yes   No\n",
       "0   50  121\n",
       "1   21    2\n",
       "2   78   45"
      ]
     },
     "execution_count": 2,
     "metadata": {},
     "output_type": "execute_result"
    }
   ],
   "source": [
    "pd.DataFrame({\"Yes\": [50,21,78] , \"No\": [121 , 2 ,45]})"
   ]
  },
  {
   "cell_type": "code",
   "execution_count": 4,
   "id": "6628a842",
   "metadata": {},
   "outputs": [
    {
     "data": {
      "text/plain": [
       "0     2\n",
       "1     3\n",
       "2     5\n",
       "3     8\n",
       "4     9\n",
       "5    11\n",
       "dtype: int64"
      ]
     },
     "execution_count": 4,
     "metadata": {},
     "output_type": "execute_result"
    }
   ],
   "source": [
    "pd.Series([2,3,5,8,9,11])"
   ]
  }
 ],
 "metadata": {
  "kernelspec": {
   "display_name": "Python 3",
   "language": "python",
   "name": "python3"
  },
  "language_info": {
   "codemirror_mode": {
    "name": "ipython",
    "version": 3
   },
   "file_extension": ".py",
   "mimetype": "text/x-python",
   "name": "python",
   "nbconvert_exporter": "python",
   "pygments_lexer": "ipython3",
   "version": "3.13.3"
  }
 },
 "nbformat": 4,
 "nbformat_minor": 5
}

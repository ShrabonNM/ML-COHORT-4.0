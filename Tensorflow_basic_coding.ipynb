{
 "cells": [
  {
   "cell_type": "code",
   "execution_count": 3,
   "id": "6718f297",
   "metadata": {},
   "outputs": [
    {
     "name": "stdout",
     "output_type": "stream",
     "text": [
      "3.0 4.0\n"
     ]
    }
   ],
   "source": [
    "import tensorflow as tf\n",
    "# Define constants\n",
    "node1 = tf.constant(3.0)\n",
    "node2 = tf.constant(4.0)\n",
    "\n",
    "print(node1.numpy(), node2.numpy())"
   ]
  },
  {
   "cell_type": "code",
   "execution_count": null,
   "id": "a8daf350",
   "metadata": {},
   "outputs": [
    {
     "name": "stdout",
     "output_type": "stream",
     "text": [
      "Result of the operation:  5\n"
     ]
    }
   ],
   "source": [
    "import tensorflow as tf\n",
    "\n",
    "# Define constants\n",
    "a = tf.constant(5)\n",
    "b = tf.constant(2)\n",
    "c = tf.constant(3)\n",
    "\n",
    "\n",
    "# perform operations\n",
    "d = tf.multiply(a, b) # Multiplication 5 * 2\n",
    "e = tf.add(c , b) # Addition 3 + 2\n",
    "f = tf. subtract(d, e) # Subtraction (5 * 2) - (3 + 2)\n",
    "\n",
    "#Directly print the result\n",
    "print(\"Result of the operation: \", f.numpy()) # Output the result of the operation\n"
   ]
  },
  {
   "cell_type": "code",
   "execution_count": null,
   "id": "62718565",
   "metadata": {},
   "outputs": [
    {
     "name": "stdout",
     "output_type": "stream",
     "text": [
      "Result of the addition:  [3. 7.]\n"
     ]
    }
   ],
   "source": [
    "import tensorflow as tf\n",
    "#Define a function with inputs\n",
    "@tf.function\n",
    "def adder (a , b):\n",
    "    return a + b\n",
    "# Define input values\n",
    "a = tf.constant([1 ,3], dtype=tf.float32)\n",
    "b = tf.constant([2 ,4], dtype=tf.float32)\n",
    "\n",
    "# compute the result\n",
    "result = adder(a, b) # Element-wise addition of the two tensors\n",
    "\n",
    "# Print the output\n",
    "print(\"Result of the addition: \", result.numpy())  #  Output  [3. 7.] . Output the result of the addition\n"
   ]
  },
  {
   "cell_type": "code",
   "execution_count": null,
   "id": "fea25caf",
   "metadata": {},
   "outputs": [],
   "source": [
    "import tensorflow as tf\n",
    "\n",
    "# Define variables\n",
    "w = tf.Variable([0.3], dtype=tf.float32)\n",
    "b = tf.Variable([-0.3], dtype=tf.float32)\n",
    "\\\n",
    "# Define input tensor\n",
    "x = tf.constant([1, 2, 3, 4], dtype=tf.float32)\n",
    "\n",
    "# Define the linear model\n",
    "linear_model = w * x + b\n",
    "\n",
    "# Print the result\n",
    "print(linear_model.numpy())  # Convert tensor to NumPy array "
   ]
  }
 ],
 "metadata": {
  "kernelspec": {
   "display_name": "Python 3",
   "language": "python",
   "name": "python3"
  },
  "language_info": {
   "codemirror_mode": {
    "name": "ipython",
    "version": 3
   },
   "file_extension": ".py",
   "mimetype": "text/x-python",
   "name": "python",
   "nbconvert_exporter": "python",
   "pygments_lexer": "ipython3",
   "version": "3.13.3"
  }
 },
 "nbformat": 4,
 "nbformat_minor": 5
}

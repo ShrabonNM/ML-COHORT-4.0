numpy array

import numpy as np
first = [1,2,43,67,13,44,99]
print(first) #!D array


print("1D array ")
a=np.array([1,2,3,4,5])
print(a)
print("2D array")
b=np.array([[1,2,4,5],
            [2,4,8,6]])
print(b)
print("3D array")
c=np.array([[[2,1,4,6,7],
             [4,1,8,9,6],
             [11,2,4,3,1]]])
print(c)
print(a.size)
print(b.size)
print(c.size)
print(a.shape)
print(b.shape)
print(c.shape)
d=np.array([[[2,1.4,4.3,6,7],
             [4,1,8,9.8,6],
             [11,2.5,4,3,1.6]]])
print(d.dtype)
e=np.array([[[2,1,4,6,7],
             [4,1,8,9,6],
             [11,2,4,3,1]]])
print(e.dtype)
Task 
t1=[2,4,6,8]
t2=[1,3,5,7]
print(np.add(t1, t2)) # we calculated summation of two matrix 
trans=[[1,2,4,7,3],
       [3,4,1,8,5]]
print(np.transpose(trans))
